{
 "cells": [
  {
   "cell_type": "code",
   "execution_count": 1,
   "metadata": {},
   "outputs": [],
   "source": [
    "import pandas as pd\n",
    "from sklearn.model_selection import train_test_split"
   ]
  },
  {
   "cell_type": "code",
   "execution_count": 2,
   "metadata": {},
   "outputs": [],
   "source": [
    "file_path = 'weatherAUS.csv'\n",
    "data = pd.read_csv(file_path)\n",
    "\n",
    "    # Splitting the dataset into train and test sets\n",
    "train, test = train_test_split(data, test_size=0.3, random_state=42)\n",
    "\n",
    "    # Saving the train and test sets into separate CSV files\n",
    "train_file_path = 'weatherAUS_train.csv'\n",
    "test_file_path = 'weatherAUS_test.csv'\n",
    "\n",
    "train.to_csv(train_file_path, index=False)\n",
    "test.to_csv(test_file_path, index=False)"
   ]
  }
 ],
 "metadata": {
  "kernelspec": {
   "display_name": "pytorch",
   "language": "python",
   "name": "python3"
  },
  "language_info": {
   "codemirror_mode": {
    "name": "ipython",
    "version": 3
   },
   "file_extension": ".py",
   "mimetype": "text/x-python",
   "name": "python",
   "nbconvert_exporter": "python",
   "pygments_lexer": "ipython3",
   "version": "3.7.15"
  }
 },
 "nbformat": 4,
 "nbformat_minor": 2
}
